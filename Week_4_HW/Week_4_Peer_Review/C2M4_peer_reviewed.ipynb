{
 "cells": [
  {
   "cell_type": "markdown",
   "metadata": {},
   "source": [
    "# C2M4: Peer Reviewed Assignment"
   ]
  },
  {
   "cell_type": "markdown",
   "metadata": {},
   "source": [
    "### Outline:\n",
    "The objectives for this assignment:\n",
    "\n",
    "1. Get a better understanding of Experimental design patterns.\n",
    "2. Prove some of the background intuition in blocking and interblock interactions.\n",
    "3. Understand how and when to apply different model strucutres for different experimental designs.\n",
    "\n",
    "General tips:\n",
    "\n",
    "1. Read the questions carefully to understand what is being asked.\n",
    "2. This work will be reviewed by another human, so make sure that you are clear and concise in what your explanations and answers."
   ]
  },
  {
   "cell_type": "markdown",
   "metadata": {},
   "source": [
    "# Problem 1: Experimental Design\n",
    "\n",
    "This problem is to get you thinking about how experiments are designed and how data is collected, because those influence what models we end up using."
   ]
  },
  {
   "cell_type": "markdown",
   "metadata": {},
   "source": [
    "### 1. (a)\n",
    "\n",
    "In your own words, define experimental design. Describe some negative effects of making an incorrect experimental design decision."
   ]
  },
  {
   "cell_type": "markdown",
   "metadata": {},
   "source": [
    "# My Answer:\n",
    "\n",
    "Experimental design is the process of designing a controlled environment in which researchers can measure specific effects of variables on a response. An experiment must contain a baseline - generally called a control group - and an experimental group. If covariates other than the treatment feature(s) are known to exist, methods such as stratified (block) design or ANCOVA can be used in an experimental setting to decrease the resulting variance in the response. Good experimental design can be used to impart causal inference onto a known (or suspected) correlation. The requirements for such causal inference are:\n",
    "\n",
    "1. A correlation between the feature and the response exist,\n",
    "\n",
    "2. There is a direct temporal relationship between the suspected cause and effect,\n",
    "\n",
    "3. There are no hidden variables that are the true agents of cause.\n",
    "\n",
    "Previous research can be used to justify the first assumption. Good experimental documentation using time-stamps can satisfy the second. By using randomization, researchers can control for the third assumption by imparting equal variance from such hidden variables onto both the control and treatment groups.\n",
    "\n",
    "Some negative effects of incorrect experimental design decisions are as follows:\n",
    "\n",
    "1. Invalid causal conclusions between covariates and response.\n",
    "\n",
    "2. Lower efficiency in design (CRBD Vs. CRD). This can cost money, time, natural and human resources.\n",
    "\n",
    "3. Larger standard errors of models, possibly so large as to prevent inference.\n",
    "\n",
    "4. Adoption of false beliefs by the scientific community, which in turn jams up the whole research system."
   ]
  },
  {
   "cell_type": "markdown",
   "metadata": {},
   "source": [
    "### 1. (b)\n",
    "\n",
    "In your own words, describe the difference between an experimental unit and a treatment unit. Why does this distinction matter?"
   ]
  },
  {
   "cell_type": "markdown",
   "metadata": {},
   "source": [
    "# My Answer\n",
    "\n",
    "An experimental unit is the entity to which the treatment is applied (this could be a collective like the entire fishtank in our programming assignment), while a sampling (I'm assuming this is the same as treatment) unit is the entity on which the response is measured. In our programming assignment this was the individual fish that had lesions. This is an important distinction because it implies a chain of cause and effect; by applying the treatment to the experimental unit, an effect was caused in the sampling unit."
   ]
  },
  {
   "cell_type": "markdown",
   "metadata": {},
   "source": [
    "# Problem 2: Proving the Intuition\n",
    "\n",
    "Show that, for the randomized complete block design: $$SS_{total} = SS_{treat} + SS_{block} + SS_{R}$$"
   ]
  },
  {
   "cell_type": "markdown",
   "metadata": {},
   "source": [
    "# My Answer:\n",
    "\n",
    "We know: $ SS_{total} = \\sum_{i = 1}^{n} (y_i - \\mu)^2$, where $\\mu = \\bar{y}$. I will show that this is equal to the right hand side posed above. In a randomized block design, the blockings partition the samples, so we can convert a single sum into a double sum:\n",
    "\n",
    "$$SS_{total} = \\sum_{i = 1}^{n} (y_i - \\mu)^2$$\n",
    "\n",
    "$$SS_{total} = \\sum_{b = 1}^{B} \\sum_{i = 1}^{n_b} (y_{b, i} - \\mu)^2$$\n",
    "\n",
    "$$SS_{total} = \\sum_{b = 1}^{B} \\sum_{i = 1}^{n_b} (y_{b, i} - \\bar{y}_b + \\bar{y}_b - \\mu)^2$$\n",
    "\n",
    "There's a lot of algebra to the next step that revolves around expanding the summand, then seperating out terms where possible to get the desired statement. There are no interesting concepts just raw nasty algebra, so I will omit this for readability. The result is:\n",
    "\n",
    "$$SS_{total} = \\sum_{b = 1}^{B}(\\bar{y}_b - \\mu)^2 + \\sum_{b = 1}^{B} \\sum_{i = 1}^{n_b}(y_{b, i} - \\bar{y}_b)^2$$\n",
    "\n",
    "The rightmost term can be decomposed by treatment, under the assumption of RCBD's that any given experimental unit is only assigned to a specific level of the treatment factor. That is, the treatments partition the blocks. For a treatment with K levels and B blocks:\n",
    "\n",
    "$$SS_{total} = \\sum_{b = 1}^{B}(\\bar{y}_b - \\mu)^2 + \\sum_{b, k} \\sum_{i = 1}^{n_{b, k}}(y_{i, b, k} - \\bar{y}_{b, k} + \\bar{y}_{b, k} - \\bar{y}_{b})^2$$\n",
    "\n",
    "\n",
    "More algebra ensues, and we get a final result:\n",
    "\n",
    "$$SS_{total} = \\sum_{b = 1}^{B}(\\bar{y}_b - \\mu)^2 + \\sum_{b, k} (\\bar{y}_{b, k} - \\bar{y}_{b})^2 + \\sum_{b, k}\\sum_{i = 1}^{n_{b, k}}(y_{i, b, k} - \\bar{y}_{b, k})^2 $$\n",
    "\n",
    "$$SS_{total} = SS_{treat} + SS_{block} + SS_{R}$$"
   ]
  },
  {
   "cell_type": "markdown",
   "metadata": {},
   "source": [
    "# Problem 3: Interblock Interactions\n",
    "\n",
    "Describe why, in a randomized complete block design (RCBD), it is not possible to test whether interactions exist between the treatment and blocks."
   ]
  },
  {
   "cell_type": "markdown",
   "metadata": {},
   "source": [
    "# My Answer:\n",
    "\n",
    "Blocking implies that we are selecting different populations to different blocks. That's the whole point. As such, it is impossible to simultaneously determine the extent to which the blocks themselves are acting as covariates with the treatment while also non-randomly choosing their experimental units. Any perceived interaction would need to be verified using a factorial design (really a complete factorial design in order to estimate all the interaction terms between blocking and treatment)."
   ]
  },
  {
   "cell_type": "markdown",
   "metadata": {},
   "source": [
    "# Problem 4: 99 Designs for 99 Problems\n",
    "\n",
    "For each of the following design patterns, give an example (that wasn't given in the videos) for an experiment that would best lend itself to the specified design pattern. Make sure to explain why the specified design is more applicable for your experiment than the other design patterns.\n",
    "\n",
    "1. Complete Randomized Design (CRD)\n",
    "2. Complete Randomized Block Design (CRBD)\n",
    "3. Factorial Design"
   ]
  },
  {
   "cell_type": "markdown",
   "metadata": {},
   "source": [
    "# My Answer:\n",
    "\n",
    "1. In SCUBA diving, a common medical issue that develops is the bends. This is when air in the blood expands too rapidly when resurfacing (which occurs due to pressure differential). A common method of preventing the bends is to wait at various depths during resurfacing. Researchers want to measure the effect of waiting at a depth of 10 meters for 10 minutes on probability of bends complications. A CRD employing a one-way ANOVA is optimal for this, becuase there is a suspected causal relationship on the response (air bubble volume) and treatment (wait Vs. don't wait). There are no suspected covariates due to the phyisical law that is suspected to be causal, so blocking is unnecessary. There is only one treatment being tested so factorial design is unnecessary.\n",
    "\n",
    "2. Sports scientists suspect that sleep the night before is a causal factor in total weight lifted during deadlifting in professional power-lifting. A known co-variant to maximum deadlift weight is biological sex. As we saw in the programming assignments, block designs are guarenteed to be *at least* as efficient as CRD's. If a covariance is known to exist, block designs are *guaranteed* to be more efficient than a corresponding CRD. The block design is therefore better in this scenario because it can save resources in comparison to a CRD. A factorial design is unneccesary if there are no other suspected covariants, and randomization is performed within-blocks.\n",
    "\n",
    "3. It is 2020, and pharmaceutical companies are competing with each other to create the most effective vaccines to sell to the public. The FDA has the role of testing the vaccines against each other to determine which is the \"best\", operationalized by best resulting immunity to COVID (either survival rate, infection rate, or transmission rate all work well as metrics). Moreover, the FDA wants to know if multiple vaccinations by seperate companies have beneficial or negative effects on this response. Let's say there are 5 vaccines to study: we then have a $2^{5}$ experimental design because each vaccine can either be administered or not administered. There are potential ethical ramifications to this - people may be more likely to engage in risky behavior if they believe they were administered a vaccination. That's something for an ethics board needs to either OKAY or reject before any experiment should go forward."
   ]
  }
 ],
 "metadata": {
  "kernelspec": {
   "display_name": "R",
   "language": "R",
   "name": "ir"
  },
  "language_info": {
   "codemirror_mode": "r",
   "file_extension": ".r",
   "mimetype": "text/x-r-source",
   "name": "R",
   "pygments_lexer": "r",
   "version": "3.6.3"
  }
 },
 "nbformat": 4,
 "nbformat_minor": 4
}
